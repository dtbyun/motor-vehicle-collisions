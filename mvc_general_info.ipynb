{
 "cells": [
  {
   "cell_type": "code",
   "execution_count": 2,
   "id": "370381d0-b576-4137-a7c7-a84b9d954bcf",
   "metadata": {},
   "outputs": [],
   "source": [
    "# Import libraries \n",
    "import pandas as pd\n",
    "import numpy as np\n",
    "import matplotlib.pyplot as plt\n",
    "import seaborn as sns\n",
    "from pathlib import Path\n",
    "%matplotlib inline"
   ]
  },
  {
   "cell_type": "code",
   "execution_count": 6,
   "id": "9b22a7d1-f8b9-4291-b6b1-1012a2d395af",
   "metadata": {},
   "outputs": [
    {
     "name": "stdout",
     "output_type": "stream",
     "text": [
      "           CRASH TIME   BOROUGH  ZIP CODE   LATITUDE  LONGITUDE  \\\n",
      "CRASH DATE                                                        \n",
      "2021-09-11       2:39       NaN       NaN        NaN        NaN   \n",
      "2022-03-26      11:45       NaN       NaN        NaN        NaN   \n",
      "2022-06-29       6:55       NaN       NaN        NaN        NaN   \n",
      "2021-09-11       9:35  BROOKLYN   11208.0  40.667202 -73.866500   \n",
      "2021-12-14       8:13  BROOKLYN   11233.0  40.683304 -73.917274   \n",
      "\n",
      "                           LOCATION           ON STREET NAME  COLLISION_ID  \n",
      "CRASH DATE                                                                  \n",
      "2021-09-11                      NaN    WHITESTONE EXPRESSWAY       4455765  \n",
      "2022-03-26                      NaN  QUEENSBORO BRIDGE UPPER       4513547  \n",
      "2022-06-29                      NaN       THROGS NECK BRIDGE       4541903  \n",
      "2021-09-11    (40.667202, -73.8665)                      NaN       4456314  \n",
      "2021-12-14  (40.683304, -73.917274)          SARATOGA AVENUE       4486609  \n"
     ]
    }
   ],
   "source": [
    "# Load csv file and clean \n",
    "mvc_gi_df = pd.read_csv(\n",
    "    Path(\"./General_info.csv\"),\n",
    "    index_col=\"CRASH DATE\",\n",
    "    parse_dates=True,\n",
    "    infer_datetime_format=True\n",
    ")\n",
    "print(mvc_gi_df.head())"
   ]
  },
  {
   "cell_type": "code",
   "execution_count": 7,
   "id": "6418d9d3-db2a-4933-a198-cb0801364dad",
   "metadata": {},
   "outputs": [
    {
     "name": "stdout",
     "output_type": "stream",
     "text": [
      "Index(['CRASH TIME', 'BOROUGH', 'ZIP CODE', 'LATITUDE', 'LONGITUDE',\n",
      "       'LOCATION', 'ON STREET NAME', 'COLLISION_ID'],\n",
      "      dtype='object')\n"
     ]
    }
   ],
   "source": [
    "mvc_gi_df.dtypes\n",
    "print(mvc_gi_df.columns)"
   ]
  },
  {
   "cell_type": "code",
   "execution_count": 8,
   "id": "3a2a2e11-5e3b-4132-ab37-d3aa3fb21de6",
   "metadata": {},
   "outputs": [],
   "source": [
    "mvc_gi_df_clean = mvc_gi_df.dropna()"
   ]
  },
  {
   "cell_type": "code",
   "execution_count": 9,
   "id": "81645bd7-374c-4909-95ca-1e7de70f0159",
   "metadata": {},
   "outputs": [
    {
     "name": "stdout",
     "output_type": "stream",
     "text": [
      "           CRASH TIME    BOROUGH  ZIP CODE   LATITUDE  LONGITUDE  \\\n",
      "CRASH DATE                                                         \n",
      "2021-12-14       8:13   BROOKLYN   11233.0  40.683304 -73.917274   \n",
      "2021-12-14      14:58  MANHATTAN   10017.0  40.751440 -73.973970   \n",
      "2021-12-14      16:50     QUEENS   11413.0  40.675884 -73.755770   \n",
      "2021-12-14      23:10     QUEENS   11434.0  40.666840 -73.789410   \n",
      "2021-12-11      19:43      BRONX   10463.0  40.872620 -73.904686   \n",
      "...               ...        ...       ...        ...        ...   \n",
      "2016-09-06      10:30  MANHATTAN   10019.0  40.766045 -73.983376   \n",
      "2016-09-06      13:01   BROOKLYN   11206.0  40.701910 -73.936990   \n",
      "2016-09-12       7:18   BROOKLYN   11207.0  40.678593 -73.896545   \n",
      "2016-09-09      10:42   BROOKLYN   11221.0  40.685635 -73.929596   \n",
      "2016-09-08      23:35  MANHATTAN   10035.0  40.802753 -73.933580   \n",
      "\n",
      "                           LOCATION                    ON STREET NAME  \\\n",
      "CRASH DATE                                                              \n",
      "2021-12-14  (40.683304, -73.917274)                   SARATOGA AVENUE   \n",
      "2021-12-14    (40.75144, -73.97397)                          3 AVENUE   \n",
      "2021-12-14   (40.675884, -73.75577)             SPRINGFIELD BOULEVARD   \n",
      "2021-12-14    (40.66684, -73.78941)              NORTH CONDUIT AVENUE   \n",
      "2021-12-11   (40.87262, -73.904686)             WEST KINGSBRIDGE ROAD   \n",
      "...                             ...                               ...   \n",
      "2016-09-06  (40.766045, -73.983376)  8 AVENUE                           \n",
      "2016-09-06    (40.70191, -73.93699)  BUSHWICK AVENUE                    \n",
      "2016-09-12  (40.678593, -73.896545)  JAMAICA AVENUE                     \n",
      "2016-09-09  (40.685635, -73.929596)  REID AVENUE                        \n",
      "2016-09-08   (40.802753, -73.93358)  2 AVENUE                           \n",
      "\n",
      "            COLLISION_ID  \n",
      "CRASH DATE                \n",
      "2021-12-14       4486609  \n",
      "2021-12-14       4486519  \n",
      "2021-12-14       4487127  \n",
      "2021-12-14       4486635  \n",
      "2021-12-11       4487040  \n",
      "...                  ...  \n",
      "2016-09-06       3515192  \n",
      "2016-09-06       3519266  \n",
      "2016-09-12       3517843  \n",
      "2016-09-09       3520012  \n",
      "2016-09-08       3517418  \n",
      "\n",
      "[412518 rows x 8 columns]\n"
     ]
    }
   ],
   "source": [
    "print(mvc_gi_df_clean)"
   ]
  },
  {
   "cell_type": "code",
   "execution_count": null,
   "id": "82871ce3-9392-4a4e-a972-0e0ed44eade4",
   "metadata": {},
   "outputs": [],
   "source": []
  }
 ],
 "metadata": {
  "kernelspec": {
   "display_name": "Python 3 (ipykernel)",
   "language": "python",
   "name": "python3"
  },
  "language_info": {
   "codemirror_mode": {
    "name": "ipython",
    "version": 3
   },
   "file_extension": ".py",
   "mimetype": "text/x-python",
   "name": "python",
   "nbconvert_exporter": "python",
   "pygments_lexer": "ipython3",
   "version": "3.10.5"
  }
 },
 "nbformat": 4,
 "nbformat_minor": 5
}
