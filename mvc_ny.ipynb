{
 "cells": [
  {
   "cell_type": "code",
   "execution_count": 7,
   "id": "370381d0-b576-4137-a7c7-a84b9d954bcf",
   "metadata": {},
   "outputs": [],
   "source": [
    "# Import libraries \n",
    "import pandas as pd\n",
    "import numpy as np\n",
    "import matplotlib.pyplot as plt\n",
    "import seaborn as sns\n",
    "from pathlib import Path\n",
    "%matplotlib inline"
   ]
  },
  {
   "cell_type": "code",
   "execution_count": 8,
   "id": "9b22a7d1-f8b9-4291-b6b1-1012a2d395af",
   "metadata": {},
   "outputs": [
    {
     "name": "stdout",
     "output_type": "stream",
     "text": [
      "           CRASH TIME   BOROUGH ZIP CODE  LATITUDE  LONGITUDE  \\\n",
      "CRASH DATE                                                      \n",
      "2021-09-11       2:39   Unknown  Unknown   Unknown    Unknown   \n",
      "2022-03-26      11:45   Unknown  Unknown   Unknown    Unknown   \n",
      "2021-12-14       8:17     BRONX    10475  40.86816  -73.83148   \n",
      "2021-12-14      23:10    QUEENS    11434  40.66684  -73.78941   \n",
      "2021-12-14      20:03  BROOKLYN    11226  40.65068  -73.95881   \n",
      "\n",
      "                         LOCATION           ON STREET NAME  \\\n",
      "CRASH DATE                                                   \n",
      "2021-09-11                Unknown    WHITESTONE EXPRESSWAY   \n",
      "2022-03-26                Unknown  QUEENSBORO BRIDGE UPPER   \n",
      "2021-12-14  (40.86816, -73.83148)                  Unknown   \n",
      "2021-12-14  (40.66684, -73.78941)     NORTH CONDUIT AVENUE   \n",
      "2021-12-14  (40.65068, -73.95881)                  Unknown   \n",
      "\n",
      "            NUMBER OF PERSONS INJURED  NUMBER OF PERSONS KILLED  \\\n",
      "CRASH DATE                                                        \n",
      "2021-09-11                        2.0                       0.0   \n",
      "2022-03-26                        1.0                       0.0   \n",
      "2021-12-14                        2.0                       0.0   \n",
      "2021-12-14                        2.0                       0.0   \n",
      "2021-12-14                        4.0                       0.0   \n",
      "\n",
      "            NUMBER OF PEDESTRIANS INJURED  NUMBER OF PEDESTRIANS KILLED  \\\n",
      "CRASH DATE                                                                \n",
      "2021-09-11                              0                             0   \n",
      "2022-03-26                              0                             0   \n",
      "2021-12-14                              0                             0   \n",
      "2021-12-14                              0                             0   \n",
      "2021-12-14                              0                             0   \n",
      "\n",
      "            NUMBER OF CYCLIST INJURED  NUMBER OF CYCLIST KILLED  \\\n",
      "CRASH DATE                                                        \n",
      "2021-09-11                          0                         0   \n",
      "2022-03-26                          0                         0   \n",
      "2021-12-14                          0                         0   \n",
      "2021-12-14                          0                         0   \n",
      "2021-12-14                          0                         0   \n",
      "\n",
      "            NUMBER OF MOTORIST INJURED  NUMBER OF MOTORIST KILLED  \\\n",
      "CRASH DATE                                                          \n",
      "2021-09-11                           2                          0   \n",
      "2022-03-26                           1                          0   \n",
      "2021-12-14                           2                          0   \n",
      "2021-12-14                           2                          0   \n",
      "2021-12-14                           4                          0   \n",
      "\n",
      "             CONTRIBUTING FACTOR VEHICLE 1  COLLISION_ID VEHICLE TYPE CODE 1  \n",
      "CRASH DATE                                                                    \n",
      "2021-09-11    Aggressive Driving/Road Rage       4455765               Sedan  \n",
      "2022-03-26               Pavement Slippery       4513547               Sedan  \n",
      "2021-12-14                     Unspecified       4486660               Sedan  \n",
      "2021-12-14  Reaction to Uninvolved Vehicle       4486635               Sedan  \n",
      "2021-12-14                Steering Failure       4486991               Sedan  \n"
     ]
    }
   ],
   "source": [
    "# Load csv file and clean \n",
    "mvc_df = pd.read_csv(\n",
    "    Path(\"./Motor_Vehicle_Collisions.csv\"),\n",
    "    index_col=\"CRASH DATE\",\n",
    "    parse_dates=True,\n",
    "    infer_datetime_format=True\n",
    ")\n",
    "print(mvc_df.head())"
   ]
  },
  {
   "cell_type": "code",
   "execution_count": 9,
   "id": "6418d9d3-db2a-4933-a198-cb0801364dad",
   "metadata": {},
   "outputs": [
    {
     "data": {
      "text/plain": [
       "CRASH TIME                        object\n",
       "BOROUGH                           object\n",
       "ZIP CODE                          object\n",
       "LATITUDE                          object\n",
       "LONGITUDE                         object\n",
       "LOCATION                          object\n",
       "ON STREET NAME                    object\n",
       "NUMBER OF PERSONS INJURED        float64\n",
       "NUMBER OF PERSONS KILLED         float64\n",
       "NUMBER OF PEDESTRIANS INJURED      int64\n",
       "NUMBER OF PEDESTRIANS KILLED       int64\n",
       "NUMBER OF CYCLIST INJURED          int64\n",
       "NUMBER OF CYCLIST KILLED           int64\n",
       "NUMBER OF MOTORIST INJURED         int64\n",
       "NUMBER OF MOTORIST KILLED          int64\n",
       "CONTRIBUTING FACTOR VEHICLE 1     object\n",
       "COLLISION_ID                       int64\n",
       "VEHICLE TYPE CODE 1               object\n",
       "dtype: object"
      ]
     },
     "execution_count": 9,
     "metadata": {},
     "output_type": "execute_result"
    }
   ],
   "source": [
    "mvc_df.dtypes"
   ]
  },
  {
   "cell_type": "code",
   "execution_count": 6,
   "id": "3a2a2e11-5e3b-4132-ab37-d3aa3fb21de6",
   "metadata": {},
   "outputs": [],
   "source": [
    "#mvc_df['NUMBER OF PERSONS INJURED'] = mvc_df['NUMBER OF PERSONS INJURED'].astype('int64')"
   ]
  },
  {
   "cell_type": "code",
   "execution_count": null,
   "id": "0f82929d-370a-44e1-94c9-37a827bb1970",
   "metadata": {},
   "outputs": [],
   "source": []
  }
 ],
 "metadata": {
  "kernelspec": {
   "display_name": "Python 3 (ipykernel)",
   "language": "python",
   "name": "python3"
  },
  "language_info": {
   "codemirror_mode": {
    "name": "ipython",
    "version": 3
   },
   "file_extension": ".py",
   "mimetype": "text/x-python",
   "name": "python",
   "nbconvert_exporter": "python",
   "pygments_lexer": "ipython3",
   "version": "3.10.5"
  }
 },
 "nbformat": 4,
 "nbformat_minor": 5
}
