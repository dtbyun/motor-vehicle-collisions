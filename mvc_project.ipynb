{
 "cells": [
  {
   "cell_type": "code",
   "execution_count": 1,
   "id": "3ce24b3d-ac51-4e90-8b6a-831eb7e5e54a",
   "metadata": {},
   "outputs": [],
   "source": [
    "# Import libraries \n",
    "import pandas as pd\n",
    "import numpy as np\n",
    "import matplotlib.pyplot as plt\n",
    "import seaborn as sns\n",
    "from pathlib import Path\n",
    "%matplotlib inline"
   ]
  },
  {
   "cell_type": "code",
   "execution_count": 2,
   "id": "908da6c7-87ab-4079-8cf2-d21e521d7505",
   "metadata": {},
   "outputs": [
    {
     "name": "stdout",
     "output_type": "stream",
     "text": [
      "           CRASH TIME   BOROUGH  ZIP CODE   LATITUDE  LONGITUDE  \\\n",
      "CRASH DATE                                                        \n",
      "2021-09-11       2:39       NaN       NaN        NaN        NaN   \n",
      "2022-03-26      11:45       NaN       NaN        NaN        NaN   \n",
      "2022-06-29       6:55       NaN       NaN        NaN        NaN   \n",
      "2021-09-11       9:35  BROOKLYN   11208.0  40.667202 -73.866500   \n",
      "2021-12-14       8:13  BROOKLYN   11233.0  40.683304 -73.917274   \n",
      "\n",
      "                           LOCATION           ON STREET NAME  \\\n",
      "CRASH DATE                                                     \n",
      "2021-09-11                      NaN    WHITESTONE EXPRESSWAY   \n",
      "2022-03-26                      NaN  QUEENSBORO BRIDGE UPPER   \n",
      "2022-06-29                      NaN       THROGS NECK BRIDGE   \n",
      "2021-09-11    (40.667202, -73.8665)                      NaN   \n",
      "2021-12-14  (40.683304, -73.917274)          SARATOGA AVENUE   \n",
      "\n",
      "            NUMBER OF PERSONS INJURED  NUMBER OF PERSONS KILLED  \\\n",
      "CRASH DATE                                                        \n",
      "2021-09-11                        2.0                       0.0   \n",
      "2022-03-26                        1.0                       0.0   \n",
      "2022-06-29                        0.0                       0.0   \n",
      "2021-09-11                        0.0                       0.0   \n",
      "2021-12-14                        0.0                       0.0   \n",
      "\n",
      "            NUMBER OF PEDESTRIANS INJURED  ...  Unnamed: 19  Unnamed: 20  \\\n",
      "CRASH DATE                                 ...                             \n",
      "2021-09-11                            0.0  ...          NaN          NaN   \n",
      "2022-03-26                            0.0  ...          NaN          NaN   \n",
      "2022-06-29                            0.0  ...          NaN          NaN   \n",
      "2021-09-11                            0.0  ...          NaN          NaN   \n",
      "2021-12-14                            0.0  ...          NaN          NaN   \n",
      "\n",
      "            Unnamed: 21  Unnamed: 22  Unnamed: 23 Unnamed: 24  Unnamed: 25  \\\n",
      "CRASH DATE                                                                   \n",
      "2021-09-11          NaN          NaN          NaN         NaN          NaN   \n",
      "2022-03-26          NaN          NaN          NaN         NaN          NaN   \n",
      "2022-06-29          NaN          NaN          NaN         NaN          NaN   \n",
      "2021-09-11          NaN          NaN          NaN         NaN          NaN   \n",
      "2021-12-14          NaN          NaN          NaN         NaN          NaN   \n",
      "\n",
      "           Unnamed: 26  Unnamed: 27  Unnamed: 28  \n",
      "CRASH DATE                                        \n",
      "2021-09-11         NaN          NaN          NaN  \n",
      "2022-03-26         NaN          NaN          NaN  \n",
      "2022-06-29         NaN          NaN          NaN  \n",
      "2021-09-11         NaN          NaN          NaN  \n",
      "2021-12-14         NaN          NaN          NaN  \n",
      "\n",
      "[5 rows x 28 columns]\n"
     ]
    }
   ],
   "source": [
    "# Load csv file and clean \n",
    "mvc_df = pd.read_csv(\n",
    "    Path(\"../motor-vehicle-collisions/Motor_Vehicle_Collisions_-_Crashes.csv\"),\n",
    "    index_col=\"CRASH DATE\",\n",
    "    parse_dates=True,\n",
    "    infer_datetime_format=True\n",
    ")\n",
    "print(mvc_df.head())"
   ]
  },
  {
   "cell_type": "code",
   "execution_count": 3,
   "id": "b52f3525-fba0-45b4-9904-88bb5402fb5b",
   "metadata": {},
   "outputs": [
    {
     "name": "stdout",
     "output_type": "stream",
     "text": [
      "Index(['CRASH TIME', 'BOROUGH', 'ZIP CODE', 'LATITUDE', 'LONGITUDE',\n",
      "       'LOCATION', 'ON STREET NAME', 'NUMBER OF PERSONS INJURED',\n",
      "       'NUMBER OF PERSONS KILLED', 'NUMBER OF PEDESTRIANS INJURED',\n",
      "       'NUMBER OF PEDESTRIANS KILLED', 'NUMBER OF CYCLIST INJURED',\n",
      "       'NUMBER OF CYCLIST KILLED', 'NUMBER OF MOTORIST INJURED',\n",
      "       'NUMBER OF MOTORIST KILLED', 'CONTRIBUTING FACTOR VEHICLE 1',\n",
      "       'COLLISION_ID', 'VEHICLE TYPE CODE 1', 'Unnamed: 19', 'Unnamed: 20',\n",
      "       'Unnamed: 21', 'Unnamed: 22', 'Unnamed: 23', 'Unnamed: 24',\n",
      "       'Unnamed: 25', 'Unnamed: 26', 'Unnamed: 27', 'Unnamed: 28'],\n",
      "      dtype='object')\n"
     ]
    }
   ],
   "source": [
    "print(mvc_df.columns)"
   ]
  },
  {
   "cell_type": "code",
   "execution_count": 4,
   "id": "ebd1dac8-2d49-4f6b-8e70-d3c3f4ddd575",
   "metadata": {},
   "outputs": [],
   "source": [
    "#Filtering and drop unwanted columns\n",
    "unnamed_columns = mvc_df.columns[mvc_df.columns.str.contains('Unnamed')]"
   ]
  },
  {
   "cell_type": "code",
   "execution_count": 5,
   "id": "c9f4feb2-0965-4917-9631-0139f98726b6",
   "metadata": {},
   "outputs": [],
   "source": [
    "#Remove 'Unnamed' columns from mvc_df\n",
    "mvc_df_uc = mvc_df.drop(columns=unnamed_columns)"
   ]
  },
  {
   "cell_type": "code",
   "execution_count": 6,
   "id": "9854e0b0-3809-444a-96fe-346d8a8f3a22",
   "metadata": {},
   "outputs": [
    {
     "name": "stdout",
     "output_type": "stream",
     "text": [
      "Index(['CRASH TIME', 'BOROUGH', 'ZIP CODE', 'LATITUDE', 'LONGITUDE',\n",
      "       'LOCATION', 'ON STREET NAME', 'NUMBER OF PERSONS INJURED',\n",
      "       'NUMBER OF PERSONS KILLED', 'NUMBER OF PEDESTRIANS INJURED',\n",
      "       'NUMBER OF PEDESTRIANS KILLED', 'NUMBER OF CYCLIST INJURED',\n",
      "       'NUMBER OF CYCLIST KILLED', 'NUMBER OF MOTORIST INJURED',\n",
      "       'NUMBER OF MOTORIST KILLED', 'CONTRIBUTING FACTOR VEHICLE 1',\n",
      "       'COLLISION_ID', 'VEHICLE TYPE CODE 1'],\n",
      "      dtype='object')\n",
      "           CRASH TIME   BOROUGH  ZIP CODE   LATITUDE  LONGITUDE  \\\n",
      "CRASH DATE                                                        \n",
      "2021-09-11       2:39       NaN       NaN        NaN        NaN   \n",
      "2022-03-26      11:45       NaN       NaN        NaN        NaN   \n",
      "2022-06-29       6:55       NaN       NaN        NaN        NaN   \n",
      "2021-09-11       9:35  BROOKLYN   11208.0  40.667202 -73.866500   \n",
      "2021-12-14       8:13  BROOKLYN   11233.0  40.683304 -73.917274   \n",
      "\n",
      "                           LOCATION           ON STREET NAME  \\\n",
      "CRASH DATE                                                     \n",
      "2021-09-11                      NaN    WHITESTONE EXPRESSWAY   \n",
      "2022-03-26                      NaN  QUEENSBORO BRIDGE UPPER   \n",
      "2022-06-29                      NaN       THROGS NECK BRIDGE   \n",
      "2021-09-11    (40.667202, -73.8665)                      NaN   \n",
      "2021-12-14  (40.683304, -73.917274)          SARATOGA AVENUE   \n",
      "\n",
      "            NUMBER OF PERSONS INJURED  NUMBER OF PERSONS KILLED  \\\n",
      "CRASH DATE                                                        \n",
      "2021-09-11                        2.0                       0.0   \n",
      "2022-03-26                        1.0                       0.0   \n",
      "2022-06-29                        0.0                       0.0   \n",
      "2021-09-11                        0.0                       0.0   \n",
      "2021-12-14                        0.0                       0.0   \n",
      "\n",
      "            NUMBER OF PEDESTRIANS INJURED  NUMBER OF PEDESTRIANS KILLED  \\\n",
      "CRASH DATE                                                                \n",
      "2021-09-11                            0.0                           0.0   \n",
      "2022-03-26                            0.0                           0.0   \n",
      "2022-06-29                            0.0                           0.0   \n",
      "2021-09-11                            0.0                           0.0   \n",
      "2021-12-14                            0.0                           0.0   \n",
      "\n",
      "            NUMBER OF CYCLIST INJURED  NUMBER OF CYCLIST KILLED  \\\n",
      "CRASH DATE                                                        \n",
      "2021-09-11                        0.0                       0.0   \n",
      "2022-03-26                        0.0                       0.0   \n",
      "2022-06-29                        0.0                       0.0   \n",
      "2021-09-11                        0.0                       0.0   \n",
      "2021-12-14                        0.0                       0.0   \n",
      "\n",
      "            NUMBER OF MOTORIST INJURED  NUMBER OF MOTORIST KILLED  \\\n",
      "CRASH DATE                                                          \n",
      "2021-09-11                         2.0                        0.0   \n",
      "2022-03-26                         1.0                        0.0   \n",
      "2022-06-29                         0.0                        0.0   \n",
      "2021-09-11                         0.0                        0.0   \n",
      "2021-12-14                         0.0                        0.0   \n",
      "\n",
      "           CONTRIBUTING FACTOR VEHICLE 1  COLLISION_ID VEHICLE TYPE CODE 1  \n",
      "CRASH DATE                                                                  \n",
      "2021-09-11  Aggressive Driving/Road Rage     4455765.0               Sedan  \n",
      "2022-03-26             Pavement Slippery     4513547.0               Sedan  \n",
      "2022-06-29         Following Too Closely     4541903.0               Sedan  \n",
      "2021-09-11                   Unspecified     4456314.0               Sedan  \n",
      "2021-12-14                           NaN     4486609.0                 NaN  \n"
     ]
    }
   ],
   "source": [
    "#Display updated column names and first few rows of new df\n",
    "print(mvc_df_uc.columns)\n",
    "print(mvc_df_uc.head())"
   ]
  },
  {
   "cell_type": "code",
   "execution_count": 7,
   "id": "3b2b69cd-66ff-4273-8015-92077ef55642",
   "metadata": {},
   "outputs": [],
   "source": [
    "#Checkpoint save mark for csv file\n",
    "mvc_df_uc.to_csv('removed_unnamed_columns.csv',index=False)"
   ]
  },
  {
   "cell_type": "code",
   "execution_count": 12,
   "id": "43394687-5dcb-49bb-b062-413ab57d7ea8",
   "metadata": {},
   "outputs": [],
   "source": [
    "#Removing NaN values from following list of columns\n",
    "col_with_nan = ['CRASH TIME','BOROUGH','ZIP CODE','LATITUDE','LONGITUDE','LOCATION','ON STREET NAME','NUMBER OF PERSONS INJURED',\n",
    "                 'NUMBER OF PERSONS KILLED','NUMBER OF PEDESTRIANS INJURED','NUMBER OF PEDESTRIANS KILLED','NUMBER OF CYCLIST INJURED',\n",
    "                 'NUMBER OF CYCLIST KILLED','NUMBER OF MOTORIST INJURED','NUMBER OF MOTORIST KILLED','CONTRIBUTING FACTOR VEHICLE 1',\n",
    "                 'COLLISION_ID','VEHICLE TYPE CODE 1']"
   ]
  },
  {
   "cell_type": "code",
   "execution_count": 13,
   "id": "5e6fa9a8-7265-40c4-860f-178ddc65d0b4",
   "metadata": {},
   "outputs": [],
   "source": [
    "#Removing the NaN values\n",
    "clean_df = mvc_df_uc.dropna(subset=col_with_nan)"
   ]
  },
  {
   "cell_type": "code",
   "execution_count": 15,
   "id": "37886028-1d2e-4a89-93a8-0e1cc7912886",
   "metadata": {},
   "outputs": [
    {
     "name": "stdout",
     "output_type": "stream",
     "text": [
      "           CRASH TIME    BOROUGH  ZIP CODE   LATITUDE  LONGITUDE  \\\n",
      "CRASH DATE                                                         \n",
      "2021-12-14      14:58  MANHATTAN   10017.0  40.751440 -73.973970   \n",
      "2021-12-14      16:50     QUEENS   11413.0  40.675884 -73.755770   \n",
      "2021-12-14      23:10     QUEENS   11434.0  40.666840 -73.789410   \n",
      "2021-12-11      19:43      BRONX   10463.0  40.872620 -73.904686   \n",
      "2021-12-13       6:30     QUEENS   11372.0  40.753730 -73.885050   \n",
      "...               ...        ...       ...        ...        ...   \n",
      "2016-09-06      10:30  MANHATTAN   10019.0  40.766045 -73.983376   \n",
      "2016-09-06      13:01   BROOKLYN   11206.0  40.701910 -73.936990   \n",
      "2016-09-12       7:18   BROOKLYN   11207.0  40.678593 -73.896545   \n",
      "2016-09-09      10:42   BROOKLYN   11221.0  40.685635 -73.929596   \n",
      "2016-09-08      23:35  MANHATTAN   10035.0  40.802753 -73.933580   \n",
      "\n",
      "                           LOCATION                    ON STREET NAME  \\\n",
      "CRASH DATE                                                              \n",
      "2021-12-14    (40.75144, -73.97397)                          3 AVENUE   \n",
      "2021-12-14   (40.675884, -73.75577)             SPRINGFIELD BOULEVARD   \n",
      "2021-12-14    (40.66684, -73.78941)              NORTH CONDUIT AVENUE   \n",
      "2021-12-11   (40.87262, -73.904686)             WEST KINGSBRIDGE ROAD   \n",
      "2021-12-13    (40.75373, -73.88505)                         82 STREET   \n",
      "...                             ...                               ...   \n",
      "2016-09-06  (40.766045, -73.983376)  8 AVENUE                           \n",
      "2016-09-06    (40.70191, -73.93699)  BUSHWICK AVENUE                    \n",
      "2016-09-12  (40.678593, -73.896545)  JAMAICA AVENUE                     \n",
      "2016-09-09  (40.685635, -73.929596)  REID AVENUE                        \n",
      "2016-09-08   (40.802753, -73.93358)  2 AVENUE                           \n",
      "\n",
      "            NUMBER OF PERSONS INJURED  NUMBER OF PERSONS KILLED  \\\n",
      "CRASH DATE                                                        \n",
      "2021-12-14                        0.0                       0.0   \n",
      "2021-12-14                        0.0                       0.0   \n",
      "2021-12-14                        2.0                       0.0   \n",
      "2021-12-11                        1.0                       0.0   \n",
      "2021-12-13                        0.0                       0.0   \n",
      "...                               ...                       ...   \n",
      "2016-09-06                        0.0                       0.0   \n",
      "2016-09-06                        1.0                       0.0   \n",
      "2016-09-12                        1.0                       0.0   \n",
      "2016-09-09                        0.0                       0.0   \n",
      "2016-09-08                        0.0                       0.0   \n",
      "\n",
      "            NUMBER OF PEDESTRIANS INJURED  NUMBER OF PEDESTRIANS KILLED  \\\n",
      "CRASH DATE                                                                \n",
      "2021-12-14                            0.0                           0.0   \n",
      "2021-12-14                            0.0                           0.0   \n",
      "2021-12-14                            0.0                           0.0   \n",
      "2021-12-11                            0.0                           0.0   \n",
      "2021-12-13                            0.0                           0.0   \n",
      "...                                   ...                           ...   \n",
      "2016-09-06                            0.0                           0.0   \n",
      "2016-09-06                            0.0                           0.0   \n",
      "2016-09-12                            0.0                           0.0   \n",
      "2016-09-09                            0.0                           0.0   \n",
      "2016-09-08                            0.0                           0.0   \n",
      "\n",
      "            NUMBER OF CYCLIST INJURED  NUMBER OF CYCLIST KILLED  \\\n",
      "CRASH DATE                                                        \n",
      "2021-12-14                        0.0                       0.0   \n",
      "2021-12-14                        0.0                       0.0   \n",
      "2021-12-14                        0.0                       0.0   \n",
      "2021-12-11                        0.0                       0.0   \n",
      "2021-12-13                        0.0                       0.0   \n",
      "...                               ...                       ...   \n",
      "2016-09-06                        0.0                       0.0   \n",
      "2016-09-06                        1.0                       0.0   \n",
      "2016-09-12                        0.0                       0.0   \n",
      "2016-09-09                        0.0                       0.0   \n",
      "2016-09-08                        0.0                       0.0   \n",
      "\n",
      "            NUMBER OF MOTORIST INJURED  NUMBER OF MOTORIST KILLED  \\\n",
      "CRASH DATE                                                          \n",
      "2021-12-14                         0.0                        0.0   \n",
      "2021-12-14                         0.0                        0.0   \n",
      "2021-12-14                         2.0                        0.0   \n",
      "2021-12-11                         1.0                        0.0   \n",
      "2021-12-13                         0.0                        0.0   \n",
      "...                                ...                        ...   \n",
      "2016-09-06                         0.0                        0.0   \n",
      "2016-09-06                         0.0                        0.0   \n",
      "2016-09-12                         1.0                        0.0   \n",
      "2016-09-09                         0.0                        0.0   \n",
      "2016-09-08                         0.0                        0.0   \n",
      "\n",
      "             CONTRIBUTING FACTOR VEHICLE 1  COLLISION_ID  \\\n",
      "CRASH DATE                                                 \n",
      "2021-12-14             Passing Too Closely     4486519.0   \n",
      "2021-12-14              Turning Improperly     4487127.0   \n",
      "2021-12-14  Reaction to Uninvolved Vehicle     4486635.0   \n",
      "2021-12-11                     Unspecified     4487040.0   \n",
      "2021-12-13                     Unspecified     4486967.0   \n",
      "...                                    ...           ...   \n",
      "2016-09-06                 Other Vehicular     3515192.0   \n",
      "2016-09-06  Passing or Lane Usage Improper     3519266.0   \n",
      "2016-09-12  Passing or Lane Usage Improper     3517843.0   \n",
      "2016-09-09                 Other Vehicular     3520012.0   \n",
      "2016-09-08              Turning Improperly     3517418.0   \n",
      "\n",
      "                            VEHICLE TYPE CODE 1  \n",
      "CRASH DATE                                       \n",
      "2021-12-14                                Sedan  \n",
      "2021-12-14                                Sedan  \n",
      "2021-12-14                                Sedan  \n",
      "2021-12-11  Station Wagon/Sport Utility Vehicle  \n",
      "2021-12-13                                Sedan  \n",
      "...                                         ...  \n",
      "2016-09-06                                Sedan  \n",
      "2016-09-06                                 Bike  \n",
      "2016-09-12                                Sedan  \n",
      "2016-09-09                                  Bus  \n",
      "2016-09-08                                 Taxi  \n",
      "\n",
      "[407966 rows x 18 columns]\n"
     ]
    }
   ],
   "source": [
    "#Display cleaned Data\n",
    "print(clean_df)"
   ]
  },
  {
   "cell_type": "code",
   "execution_count": 27,
   "id": "dd9982fb-33f6-460d-8252-a9fd0dc50d92",
   "metadata": {},
   "outputs": [],
   "source": [
    "#Save cleaned CSV file\n",
    "clean_df.to_csv('cleaned_dataset.csv',index=False)"
   ]
  },
  {
   "cell_type": "code",
   "execution_count": 16,
   "id": "ecfecddb-ea9a-4ef2-86dc-a89fdb57dd84",
   "metadata": {},
   "outputs": [
    {
     "name": "stdout",
     "output_type": "stream",
     "text": [
      "            ZIP CODE       LATITUDE      LONGITUDE  NUMBER OF PERSONS INJURED  \\\n",
      "count  407966.000000  407966.000000  407966.000000              407966.000000   \n",
      "mean    10881.770861      40.563583     -73.629359                   0.361712   \n",
      "std       541.015569       2.530498       4.591797                   0.732827   \n",
      "min     10000.000000       0.000000     -74.253930                   0.000000   \n",
      "25%     10453.000000      40.665558     -73.971420                   0.000000   \n",
      "50%     11208.000000      40.714878     -73.921420                   0.000000   \n",
      "75%     11355.000000      40.766502     -73.862591                   1.000000   \n",
      "max     11697.000000      40.912468       0.000000                  27.000000   \n",
      "\n",
      "       NUMBER OF PERSONS KILLED  NUMBER OF PEDESTRIANS INJURED  \\\n",
      "count             407966.000000                  407966.000000   \n",
      "mean                   0.001672                       0.064552   \n",
      "std                    0.043862                       0.262527   \n",
      "min                    0.000000                       0.000000   \n",
      "25%                    0.000000                       0.000000   \n",
      "50%                    0.000000                       0.000000   \n",
      "75%                    0.000000                       0.000000   \n",
      "max                    8.000000                      27.000000   \n",
      "\n",
      "       NUMBER OF PEDESTRIANS KILLED  NUMBER OF CYCLIST INJURED  \\\n",
      "count                 407966.000000              407966.000000   \n",
      "mean                       0.000855                   0.037886   \n",
      "std                        0.030867                   0.193508   \n",
      "min                        0.000000                   0.000000   \n",
      "25%                        0.000000                   0.000000   \n",
      "50%                        0.000000                   0.000000   \n",
      "75%                        0.000000                   0.000000   \n",
      "max                        6.000000                   3.000000   \n",
      "\n",
      "       NUMBER OF CYCLIST KILLED  NUMBER OF MOTORIST INJURED  \\\n",
      "count             407966.000000               407966.000000   \n",
      "mean                   0.000179                    0.254394   \n",
      "std                    0.013558                    0.692868   \n",
      "min                    0.000000                    0.000000   \n",
      "25%                    0.000000                    0.000000   \n",
      "50%                    0.000000                    0.000000   \n",
      "75%                    0.000000                    0.000000   \n",
      "max                    2.000000                   21.000000   \n",
      "\n",
      "       NUMBER OF MOTORIST KILLED  COLLISION_ID  \n",
      "count              407966.000000  4.079660e+05  \n",
      "mean                    0.000603  4.032141e+06  \n",
      "std                     0.025909  3.024181e+05  \n",
      "min                     0.000000  3.456194e+06  \n",
      "25%                     0.000000  3.774105e+06  \n",
      "50%                     0.000000  4.033646e+06  \n",
      "75%                     0.000000  4.289418e+06  \n",
      "max                     3.000000  4.718198e+06  \n"
     ]
    }
   ],
   "source": [
    "#Display summary statistics\n",
    "print(clean_df.describe())"
   ]
  },
  {
   "cell_type": "code",
   "execution_count": 18,
   "id": "44c3e642-88ef-42a2-89c7-7a1338e7627f",
   "metadata": {},
   "outputs": [
    {
     "data": {
      "image/png": "[encoded data removed]",
      "text/plain": [
       "<Figure size 720x432 with 1 Axes>"
      ]
     },
     "metadata": {
      "needs_background": "light"
     },
     "output_type": "display_data"
    },
    {
     "data": {
      "image/png": "[encoded data removed]",
      "text/plain": [
       "<Figure size 720x432 with 1 Axes>"
      ]
     },
     "metadata": {
      "needs_background": "light"
     },
     "output_type": "display_data"
    },
    {
     "data": {
      "image/png": "[encoded data removed]",
      "text/plain": [
       "<Figure size 864x576 with 1 Axes>"
      ]
     },
     "metadata": {
      "needs_background": "light"
     },
     "output_type": "display_data"
    }
   ],
   "source": [
    "# Histogram of 'NUMBER OF PERSONS INJURED'  \n",
    "plt.figure(figsize=(10, 6))\n",
    "sns.histplot(clean_df['NUMBER OF PERSONS INJURED'], bins=20, kde=True, color='skyblue', edgecolor='black')\n",
    "plt.title('Distribution of Persons Injured in Vehicle Collisions')\n",
    "plt.xlabel('Number of Persons Injured')\n",
    "plt.ylabel('Frequency')\n",
    "plt.show()\n",
    "\n",
    "# Histogram of 'NUMBER OF PERSONS KILLED'\n",
    "plt.figure(figsize=(10, 6))\n",
    "sns.histplot(clean_df['NUMBER OF PERSONS KILLED'], bins=10, kde=True, color='salmon', edgecolor='black')\n",
    "plt.title('Distribution of Persons Killed in Vehicle Collisions')\n",
    "plt.xlabel('Number of Persons Killed')\n",
    "plt.ylabel('Frequency')\n",
    "plt.show()\n",
    "\n",
    "# Box plot of 'NUMBER OF PERSONS INJURED' by 'BOROUGH'\n",
    "plt.figure(figsize=(12, 8))\n",
    "sns.boxplot(x='BOROUGH', y='NUMBER OF PERSONS INJURED', data=clean_df)\n",
    "plt.title('Distribution of Persons Injured by Borough')\n",
    "plt.xlabel('Borough')\n",
    "plt.ylabel('Number of Persons Injured')\n",
    "plt.xticks(rotation=45)\n",
    "plt.show()"
   ]
  },
  {
   "cell_type": "code",
   "execution_count": null,
   "id": "283e2f83-0553-44fc-b0a4-c570483fe438",
   "metadata": {},
   "outputs": [],
   "source": []
  }
 ],
 "metadata": {
  "kernelspec": {
   "display_name": "Python 3 (ipykernel)",
   "language": "python",
   "name": "python3"
  },
  "language_info": {
   "codemirror_mode": {
    "name": "ipython",
    "version": 3
   },
   "file_extension": ".py",
   "mimetype": "text/x-python",
   "name": "python",
   "nbconvert_exporter": "python",
   "pygments_lexer": "ipython3",
   "version": "3.10.5"
  }
 },
 "nbformat": 4,
 "nbformat_minor": 5
}
